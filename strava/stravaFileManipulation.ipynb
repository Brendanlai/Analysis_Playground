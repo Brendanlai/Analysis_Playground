{
 "cells": [
  {
   "cell_type": "code",
   "execution_count": 1,
   "metadata": {},
   "outputs": [],
   "source": [
    "import os"
   ]
  },
  {
   "cell_type": "code",
   "execution_count": 2,
   "metadata": {},
   "outputs": [
    {
     "ename": "FileNotFoundError",
     "evalue": "[Errno 2] No such file or directory: '/Users/brendanlai/Documents/git/Analysis_practice/strava/data23_10_2023_download/activities'",
     "output_type": "error",
     "traceback": [
      "\u001b[0;31m---------------------------------------------------------------------------\u001b[0m",
      "\u001b[0;31mFileNotFoundError\u001b[0m                         Traceback (most recent call last)",
      "\u001b[1;32m/Users/brendanlai/Documents/git/Analysis_practice/strava/data/stravaFileManipulation.ipynb Cell 2\u001b[0m in \u001b[0;36m<cell line: 3>\u001b[0;34m()\u001b[0m\n\u001b[1;32m      <a href='vscode-notebook-cell:/Users/brendanlai/Documents/git/Analysis_practice/strava/data/stravaFileManipulation.ipynb#W1sZmlsZQ%3D%3D?line=0'>1</a>\u001b[0m path \u001b[39m=\u001b[39m os\u001b[39m.\u001b[39mgetcwd()\n\u001b[1;32m      <a href='vscode-notebook-cell:/Users/brendanlai/Documents/git/Analysis_practice/strava/data/stravaFileManipulation.ipynb#W1sZmlsZQ%3D%3D?line=1'>2</a>\u001b[0m target \u001b[39m=\u001b[39m path \u001b[39m+\u001b[39m \u001b[39m\"\u001b[39m\u001b[39m23_10_2023_download/activities\u001b[39m\u001b[39m\"\u001b[39m\n\u001b[0;32m----> <a href='vscode-notebook-cell:/Users/brendanlai/Documents/git/Analysis_practice/strava/data/stravaFileManipulation.ipynb#W1sZmlsZQ%3D%3D?line=2'>3</a>\u001b[0m activities \u001b[39m=\u001b[39m os\u001b[39m.\u001b[39;49mlistdir(target)\n\u001b[1;32m      <a href='vscode-notebook-cell:/Users/brendanlai/Documents/git/Analysis_practice/strava/data/stravaFileManipulation.ipynb#W1sZmlsZQ%3D%3D?line=3'>4</a>\u001b[0m activities\n",
      "\u001b[0;31mFileNotFoundError\u001b[0m: [Errno 2] No such file or directory: '/Users/brendanlai/Documents/git/Analysis_practice/strava/data23_10_2023_download/activities'"
     ]
    }
   ],
   "source": [
    "path = os.getcwd()\n",
    "target = path + \"23_10_2023_download/activities\"\n",
    "activities = os.listdir(target)\n",
    "activities"
   ]
  },
  {
   "cell_type": "code",
   "execution_count": null,
   "metadata": {},
   "outputs": [],
   "source": []
  }
 ],
 "metadata": {
  "kernelspec": {
   "display_name": "base",
   "language": "python",
   "name": "python3"
  },
  "language_info": {
   "codemirror_mode": {
    "name": "ipython",
    "version": 3
   },
   "file_extension": ".py",
   "mimetype": "text/x-python",
   "name": "python",
   "nbconvert_exporter": "python",
   "pygments_lexer": "ipython3",
   "version": "3.9.12"
  },
  "orig_nbformat": 4
 },
 "nbformat": 4,
 "nbformat_minor": 2
}
